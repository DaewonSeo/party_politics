{
 "cells": [
  {
   "cell_type": "markdown",
   "metadata": {},
   "source": [
    "# 데이터 분석\n",
    "## - 한글 형태소 분석\n",
    "## - 워드클라우드\n",
    "## - 의미망분석"
   ]
  },
  {
   "cell_type": "markdown",
   "metadata": {},
   "source": [
    "# 한글 형태소 분석"
   ]
  },
  {
   "cell_type": "code",
   "execution_count": null,
   "metadata": {},
   "outputs": [],
   "source": [
    "!pip3 install jpype\n",
    "!pip3 install konlpy"
   ]
  },
  {
   "cell_type": "markdown",
   "metadata": {},
   "source": [
    "## 단문에 대한 형태소 분석"
   ]
  },
  {
   "cell_type": "code",
   "execution_count": null,
   "metadata": {},
   "outputs": [],
   "source": [
    "from konlpy.tag import Kkma\n",
    "\n",
    "kkma = Kkma()\n",
    "print(kkma.pos(\"한국어 형태소 분석은 재밌습니다\"))\n",
    "\n",
    "from collections import Counter\n",
    "\n",
    "pos = kkma.pos(\"한국어 형태소 분석은 재밌습니다\")\n",
    "count = Counter(pos)\n",
    "print(count)"
   ]
  },
  {
   "cell_type": "markdown",
   "metadata": {},
   "source": [
    "## 파일에 대한 형태소 분석"
   ]
  },
  {
   "cell_type": "code",
   "execution_count": null,
   "metadata": {
    "scrolled": true
   },
   "outputs": [],
   "source": [
    "from konlpy.tag import Kkma\n",
    "from collections import Counter\n",
    "\n",
    "with open('thirties.txt', encoding='utf-8') as file:\n",
    "    text = file.read()\n",
    "\n",
    "kkma = Kkma()\n",
    "\n",
    "nouns = kkma.nouns(text)\n",
    "print(nouns)\n",
    "count = Counter(nouns)\n",
    "print(count)\n",
    "print(count.most_common(5))"
   ]
  },
  {
   "cell_type": "markdown",
   "metadata": {
    "collapsed": true
   },
   "source": [
    "## 발의안에 대한 형태소 분석"
   ]
  },
  {
   "cell_type": "code",
   "execution_count": null,
   "metadata": {},
   "outputs": [],
   "source": [
    "from collections import Counter\n",
    "from konlpy.tag import Twitter\n",
    "from konlpy.corpus import kobill    # Docs from pokr.kr/bill\n",
    "\n",
    "files_ko = kobill.fileids()         # Get file ids\n",
    "print(files_ko)\n",
    "\n",
    "text = kobill.open('1809891.txt').read()\n",
    "print(text)\n",
    "\n",
    "t = Twitter()\n",
    "nouns = t.nouns(text)\n",
    "count = Counter(nouns)\n",
    "print(count.most_common(5))"
   ]
  },
  {
   "cell_type": "markdown",
   "metadata": {},
   "source": [
    "# 워드 클라우드"
   ]
  },
  {
   "cell_type": "markdown",
   "metadata": {},
   "source": [
    " #### 예제 출처: PinkWInk(http://pinkwink.kr/1029, 방문일: 2018년 7월 10일)"
   ]
  },
  {
   "cell_type": "code",
   "execution_count": null,
   "metadata": {
    "scrolled": true
   },
   "outputs": [],
   "source": [
    "from matplotlib import pyplot as plt\n",
    "from wordcloud import WordCloud   \n",
    "\n",
    "text = open('thirties.txt', encoding='utf-8').read()\n",
    "\n",
    "wordcloud = WordCloud().generate(text)"
   ]
  },
  {
   "cell_type": "code",
   "execution_count": null,
   "metadata": {},
   "outputs": [],
   "source": [
    "wordcloud.words_"
   ]
  },
  {
   "cell_type": "code",
   "execution_count": null,
   "metadata": {},
   "outputs": [],
   "source": [
    "import nltk\n",
    "from konlpy.corpus import kolaw\n",
    "from konlpy.tag import Twitter \n",
    "t = Twitter()"
   ]
  },
  {
   "cell_type": "code",
   "execution_count": null,
   "metadata": {},
   "outputs": [],
   "source": [
    "ko_con_text = kolaw.open('constitution.txt').read()\n",
    "ko_con_text"
   ]
  },
  {
   "cell_type": "code",
   "execution_count": null,
   "metadata": {},
   "outputs": [],
   "source": [
    "tokens_ko = t.nouns(ko_con_text)\n",
    "tokens_ko"
   ]
  },
  {
   "cell_type": "code",
   "execution_count": null,
   "metadata": {},
   "outputs": [],
   "source": [
    "stop_words = ['제', '월', '일', '조', '애', '수']\n",
    "tokens_ko = [each_word for each_word in tokens_ko if each_word not in stop_words]\n",
    "tokens_ko"
   ]
  },
  {
   "cell_type": "code",
   "execution_count": null,
   "metadata": {},
   "outputs": [],
   "source": [
    "ko = nltk.Text(tokens_ko)\n",
    "ko.vocab().most_common(5)"
   ]
  },
  {
   "cell_type": "markdown",
   "metadata": {},
   "source": [
    "## c.f. 한글폰트 설정"
   ]
  },
  {
   "cell_type": "code",
   "execution_count": null,
   "metadata": {},
   "outputs": [],
   "source": [
    "from matplotlib import font_manager, rc\n",
    "font_name = font_manager.FontProperties(fname=\"AppleGothic.ttf\").get_name()\n",
    "rc('font', family=font_name)"
   ]
  },
  {
   "cell_type": "code",
   "execution_count": null,
   "metadata": {},
   "outputs": [],
   "source": [
    "data = ko.vocab().most_common(500)\n",
    "tmp_data = dict(data)\n",
    "\n",
    "wordcloud = WordCloud(font_path = \"AppleGothic.ttf\", \n",
    "                     relative_scaling = 0.2,\n",
    "                     background_color = 'white',\n",
    "                     ).generate_from_frequencies(tmp_data)\n",
    "plt.figure(figsize = (16, 8))\n",
    "plt.imshow(wordcloud)\n",
    "plt.axis('off')\n",
    "plt.show()"
   ]
  },
  {
   "cell_type": "code",
   "execution_count": null,
   "metadata": {
    "scrolled": false
   },
   "outputs": [],
   "source": [
    "import numpy as np\n",
    "from PIL import Image   \n",
    "\n",
    "korea_coloring = np.array(Image.open(\"korea_mask.jpg\"))\n",
    "from wordcloud import ImageColorGenerator \n",
    "image_colors = ImageColorGenerator(korea_coloring)"
   ]
  },
  {
   "cell_type": "markdown",
   "metadata": {},
   "source": [
    "#### 이미지 출처: https://www.pinterest.co.kr/pin/514395588671378068/"
   ]
  },
  {
   "cell_type": "code",
   "execution_count": null,
   "metadata": {
    "scrolled": true
   },
   "outputs": [],
   "source": [
    "plt.figure(figsize=(12, 12))\n",
    "plt.imshow(korea_coloring, cmap=plt.cm.gray, interpolation='bilinear')\n",
    "plt.axis(\"off\")\n",
    "plt.show()"
   ]
  },
  {
   "cell_type": "code",
   "execution_count": null,
   "metadata": {
    "scrolled": true
   },
   "outputs": [],
   "source": [
    "wordcloud = WordCloud(font_path =\"AppleGothic.ttf\", \n",
    "                     relative_scaling=0.2, mask=korea_coloring,\n",
    "                      background_color='white', \n",
    "                      min_font_size=1, max_font_size=40).generate_from_frequencies(tmp_data)\n",
    "plt.figure(figsize=(12,12))\n",
    "plt.imshow(wordcloud.recolor(color_func=image_colors), interpolation='bilinear')\n",
    "plt.axis(\"off\")\n",
    "plt.show()"
   ]
  },
  {
   "cell_type": "markdown",
   "metadata": {},
   "source": [
    "## 의미망 분석"
   ]
  },
  {
   "cell_type": "code",
   "execution_count": null,
   "metadata": {},
   "outputs": [],
   "source": [
    "import networkx as nx"
   ]
  },
  {
   "cell_type": "code",
   "execution_count": null,
   "metadata": {},
   "outputs": [],
   "source": [
    "g = nx.Graph()\n",
    "\n",
    "# NODES\n",
    "g.add_node(1)\n",
    "g.add_node(2)\n",
    "g.add_nodes_from([3, 4, 5, \"six\", \"hello\"])\n",
    "g.node[1]['type']='number'"
   ]
  },
  {
   "cell_type": "code",
   "execution_count": null,
   "metadata": {},
   "outputs": [],
   "source": [
    "print(g.nodes())\n",
    "print(g.node[1])\n",
    "print(g.node[2])\n",
    "print(g.nodes(data=True))\n",
    "print(len(g))"
   ]
  },
  {
   "cell_type": "code",
   "execution_count": null,
   "metadata": {},
   "outputs": [],
   "source": [
    "# EDGES\n",
    "g.add_edge(1, 2)\n",
    "g.add_edges_from([(2, 3), (3, 5), (5, 'six')])\n",
    "g[1][2]['weight'] = 2.3"
   ]
  },
  {
   "cell_type": "code",
   "execution_count": null,
   "metadata": {},
   "outputs": [],
   "source": [
    "print(g.edges())\n",
    "print(g.edges(data=True))"
   ]
  },
  {
   "cell_type": "code",
   "execution_count": null,
   "metadata": {},
   "outputs": [],
   "source": [
    "import networkx as nx\n",
    "import matplotlib.pyplot as plt"
   ]
  },
  {
   "cell_type": "code",
   "execution_count": null,
   "metadata": {},
   "outputs": [],
   "source": [
    "g2 = nx.Graph()\n",
    "\n",
    "paths =[(1, 2), (1, 3), (3, 4), (4, 5), (4, 1)]\n",
    "for p in paths:\n",
    "    g2.add_edge(p[0], p[1])\n",
    "\n",
    "pos = nx.spring_layout(g2)\n",
    "nx.draw_networkx_nodes(g2, pos)\n",
    "nx.draw_networkx_edges(g2, pos)\n",
    "\n",
    "nx.draw_networkx_labels(g2, pos)  # 노드에 레이블을 더하라. Draw node labels on the graph G.\n",
    "\n",
    "edgeLabels = {pair: x for x, pair in enumerate(paths)}\n",
    "nx.draw_networkx_edge_labels(g2, pos, edge_labels=edgeLabels)  # 관계(edge)에 레이블을 더하라\n",
    "\n",
    "# Show or save your graph to disk\n",
    "plt.savefig('network_eg01.png')\n",
    "plt.axis('off')\n",
    "plt.show()"
   ]
  },
  {
   "cell_type": "code",
   "execution_count": null,
   "metadata": {},
   "outputs": [],
   "source": [
    "# 중심성\n",
    "degree_cent = nx.degree_centrality(g2)\n",
    "print(degree_cent)\n",
    "bw_cent = nx.betweenness_centrality(g2)\n",
    "print(bw_cent)\n",
    "close_cent = nx.closeness_centrality(g2)\n",
    "print(close_cent)"
   ]
  },
  {
   "cell_type": "code",
   "execution_count": null,
   "metadata": {},
   "outputs": [],
   "source": [
    "from operator import itemgetter\n",
    "\n",
    "degree_cent = nx.degree_centrality(g2)\n",
    "degree_sorted = sorted(degree_cent.items(), key=itemgetter(1), reverse=True)\n",
    "print(degree_sorted[0:3])"
   ]
  },
  {
   "cell_type": "markdown",
   "metadata": {
    "collapsed": true
   },
   "source": [
    "## 의미망 분석"
   ]
  },
  {
   "cell_type": "code",
   "execution_count": null,
   "metadata": {},
   "outputs": [],
   "source": [
    "import pandas as pd\n",
    "from collections import Counter \n",
    "from konlpy.tag import Twitter"
   ]
  },
  {
   "cell_type": "code",
   "execution_count": null,
   "metadata": {},
   "outputs": [],
   "source": [
    "df = pd.read_csv(\"korea_TwitterSearch_2018-07-11.csv\", sep=\"\\t\", header=0,  index_col=False)"
   ]
  },
  {
   "cell_type": "code",
   "execution_count": null,
   "metadata": {},
   "outputs": [],
   "source": [
    "df.shape"
   ]
  },
  {
   "cell_type": "markdown",
   "metadata": {},
   "source": [
    "    The dataframe df is a 93 x 3 table, which means there are 93 rows, or records, and 3 columns, or fields."
   ]
  },
  {
   "cell_type": "code",
   "execution_count": null,
   "metadata": {},
   "outputs": [],
   "source": [
    "df.info()"
   ]
  },
  {
   "cell_type": "code",
   "execution_count": null,
   "metadata": {},
   "outputs": [],
   "source": [
    "df.columns"
   ]
  },
  {
   "cell_type": "code",
   "execution_count": null,
   "metadata": {},
   "outputs": [],
   "source": [
    "df.head()"
   ]
  },
  {
   "cell_type": "code",
   "execution_count": null,
   "metadata": {
    "scrolled": true
   },
   "outputs": [],
   "source": [
    "t = Twitter()\n",
    "df['tags'] = df.tweet_text.apply(lambda x: t.nouns(x) )"
   ]
  },
  {
   "cell_type": "code",
   "execution_count": null,
   "metadata": {},
   "outputs": [],
   "source": [
    "df"
   ]
  },
  {
   "cell_type": "code",
   "execution_count": null,
   "metadata": {},
   "outputs": [],
   "source": [
    "counter = Counter()\n",
    "\n",
    "for tags in df.tags:\n",
    "    \n",
    "    ###################################################################\n",
    "    # Use a set to remove duplicate words.\n",
    "    # This enables us to count every term in a tweet as just 1 \n",
    "    # even though they appear multiple times in the same tweet. \n",
    "    ###################################################################\n",
    "    \n",
    "    word_set = set()\n",
    "    \n",
    "    for item in tags:\n",
    "        \n",
    "        word_set.add(item)\n",
    "            \n",
    "    counter.update(word_set)"
   ]
  },
  {
   "cell_type": "code",
   "execution_count": null,
   "metadata": {},
   "outputs": [],
   "source": [
    "counter"
   ]
  }
 ],
 "metadata": {
  "kernelspec": {
   "display_name": "Python 3",
   "language": "python",
   "name": "python3"
  },
  "language_info": {
   "codemirror_mode": {
    "name": "ipython",
    "version": 3
   },
   "file_extension": ".py",
   "mimetype": "text/x-python",
   "name": "python",
   "nbconvert_exporter": "python",
   "pygments_lexer": "ipython3",
   "version": "3.6.5"
  }
 },
 "nbformat": 4,
 "nbformat_minor": 2
}
